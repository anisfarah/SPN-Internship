version https://git-lfs.github.com/spec/v1
oid sha256:1e7b28414dc3dfab0e4efa5c48a4229cb7c8bc5376c74f761efd3248f5604560
size 23307373
